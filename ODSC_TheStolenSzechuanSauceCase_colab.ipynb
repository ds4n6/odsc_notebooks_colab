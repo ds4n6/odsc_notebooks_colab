{
 "cells": [
  {
   "cell_type": "markdown",
   "metadata": {
    "id": "Q795Y5jRc3cF"
   },
   "source": [
    "# **THE STOLEN SZECHUAN SAUCE CASE colab**"
   ]
  },
  {
   "cell_type": "markdown",
   "metadata": {
    "id": "_l0R6lK8c3cM"
   },
   "source": [
    "<span style=\"color:red\">**THIS IS THE UNSOLVED NOTEBOOK. YOU CAN FIND THE SOLVED NOTEBOOK HERE: https://github.com/testingvicc/testing/blob/main/SOLVED_TheStolenSzechuanSauceCase.ipynb**</span>"
   ]
  },
  {
   "cell_type": "markdown",
   "metadata": {},
   "source": [
    "<img src=\"https://github.com/ds4n6/odsc_notebooks_colab/blob/main/Pictures/ODSC_JGv0.5.jpg?raw=1\">\n"
   ]
  },
  {
   "cell_type": "markdown",
   "metadata": {
    "id": "IAUzYF_mdhTl"
   },
   "source": [
    "# **INSTALLING PACKAGES**"
   ]
  },
  {
   "cell_type": "code",
   "execution_count": null,
   "metadata": {
    "id": "Hj9aN250dmkE"
   },
   "outputs": [],
   "source": [
    "!pip install ds4n6_libhttps://github.com/testingvicc/testing/blob/main/SOLVED_TheStolenSzechuanSauceCase.ipynb\n",
    "!pip install qgrid==1.3.0\n",
    "!pip install pandas_bokeh\n",
    "!pip install untangle"
   ]
  },
  {
   "cell_type": "markdown",
   "metadata": {
    "id": "K6pnpR2Dc3cO"
   },
   "source": [
    "# **IMPORTS**"
   ]
  },
  {
   "cell_type": "code",
   "execution_count": null,
   "metadata": {
    "id": "2wekThNFc3cP"
   },
   "outputs": [],
   "source": [
    "# Definition of variables & run imports\n",
    "# Data Science Imports\n",
    "import numpy as np\n",
    "import pandas as pd\n",
    "import matplotlib.pyplot as plt\n",
    "\n",
    "# GUI Imports\n",
    "import qgrid\n",
    "from IPython.display import display, Markdown\n",
    "#import ipynb_path\n",
    "\n",
    "# Visualization\n",
    "import matplotlib.pyplot as plt\n",
    "import seaborn as sns\n",
    "import pandas_bokeh\n",
    "from bokeh.io import output_notebook, show\n",
    "from bokeh.plotting import figure, output_file, show\n",
    "\n",
    "\n",
    "# DS4N6\n",
    "import ds4n6_lib.d4       as d4\n",
    "import ds4n6_lib.common   as d4com\n",
    "import ds4n6_lib.autoruns as d4atrs\n",
    "import ds4n6_lib.fstl     as d4fstl\n",
    "import ds4n6_lib.plaso    as d4pl\n",
    "import ds4n6_lib.kansa    as d4ksa\n",
    "import ds4n6_lib.kape     as d4kp\n",
    "import ds4n6_lib.evtx     as d4evtx\n",
    "import ds4n6_lib.mactime  as d4mctm\n",
    "import ds4n6_lib.unx      as d4unx\n",
    "import ds4n6_lib.utils    as d4utl\n",
    "import ds4n6_lib.gui      as d4gui\n",
    "import ds4n6_lib.ml       as d4ml\n",
    "import ds4n6_lib.tshark   as d4tshrk\n",
    "import ds4n6_lib.flist    as d4flst\n",
    "\n",
    "from ds4n6_lib.common import analysis\n",
    "from ds4n6_lib.common import anl\n",
    "from ds4n6_lib.common import whatis\n",
    "from ds4n6_lib.common import find_anomalies\n",
    "from ds4n6_lib.unx    import xgrep\n",
    "from ds4n6_lib.gui    import xread\n",
    "from ds4n6_lib.gui    import xmenu\n",
    "from ds4n6_lib.gui    import xdisplay\n",
    "from ds4n6_lib.gui    import xanalysis\n",
    "\n",
    "# Standard python imports\n",
    "from time import sleep\n",
    "import datetime\n",
    "import time\n",
    "import re\n",
    "import os.path\n",
    "import nbformat as nbf\n",
    "import calendar\n",
    "import glob\n",
    "import xmltodict\n",
    "import untangle\n",
    "import importlib\n",
    "import logging\n",
    "import subprocess\n",
    "import tarfile\n",
    "\n",
    "# Data Save/Restore\n",
    "import dill\n",
    "import pickle\n",
    "import warnings\n",
    "import gdown\n",
    "\n",
    "warnings.filterwarnings(\"ignore\",category=DeprecationWarning)\n",
    "warnings.filterwarnings(\"ignore\",category=UserWarning)\n",
    "warnings.filterwarnings(\"ignore\")\n",
    "\n",
    "#Tshark\n",
    "import urllib\n",
    "\n",
    "from google.colab import output\n",
    "output.enable_custom_widget_manager()\n",
    "\n",
    "\n",
    "pd.set_option('display.width', None) \n",
    "pd.set_option(\"max_columns\", None)\n",
    "pd.set_option('display.max_colwidth', None)\n",
    "pd.set_option('display.colheader_justify', 'left')\n",
    "pd.set_option(\"max_rows\", 10)\n"
   ]
  },
  {
   "cell_type": "code",
   "execution_count": null,
   "metadata": {
    "id": "8hLPAO9bi3eg"
   },
   "outputs": [],
   "source": [
    "home_path=!pwd\n",
    "thisnb=home_path[0]+\"/ODSC_TheStolenSzechuanSauceCase_colab.ipynb\""
   ]
  },
  {
   "cell_type": "markdown",
   "metadata": {
    "id": "-AHDNNyReJRL"
   },
   "source": [
    "Now, let's download the evidence already processed from Google drive:"
   ]
  },
  {
   "cell_type": "code",
   "execution_count": null,
   "metadata": {
    "id": "Q8-00if2eIXB"
   },
   "outputs": [],
   "source": [
    "url = 'https://drive.google.com/uc?id=17OoXA5evLW6zef5gqu5rQoAvw8llUygY'\n",
    "of = 'Data_ODSC.tgz'\n",
    "gdown.download(url, of, quiet=False)\n",
    "tar = tarfile.open(\"Data_ODSC.tgz\")\n",
    "tar.extractall()"
   ]
  },
  {
   "cell_type": "markdown",
   "metadata": {
    "id": "jGHUTNw4c3cS"
   },
   "source": [
    "# **FORENSIC EVIDENCE**"
   ]
  },
  {
   "cell_type": "markdown",
   "metadata": {
    "id": "hLthxTh1c3cU"
   },
   "source": [
    "This section lists the evidence we will use in this case. \n",
    "\n",
    "**Evidence**, in cyber forensics, is information of probative value that is stored or transmitted in binary form. This means that once an incident is identified, this type of information is extracted to establish what has happened.\n",
    "\n",
    "The evidence we will use for this case corresponds with the devices DC01 (Domain Controller) and Desktop: \n",
    " - DC01 Disk Image (EO1)\n",
    "\n",
    " - DC01 Autoruns\n",
    "\n",
    " - Case001 PCAP\n",
    "\n",
    " - Desktop Disk Image (E01)\n",
    "\n",
    " - Desktop Autoruns\n",
    "\n",
    "You can find more information at: https://dfirmadness.com/the-stolen-szechuan-sauce/"
   ]
  },
  {
   "cell_type": "markdown",
   "metadata": {
    "id": "dAmEEMw4c3cV"
   },
   "source": [
    "# **FORENSIC PROCESSING**"
   ]
  },
  {
   "cell_type": "markdown",
   "metadata": {
    "id": "n9siQ9XOc3cW"
   },
   "source": [
    "As previously mentioned, the **evidence** is acquired in binary form. Therefore, it is necessary to process and parse it, so that it can be understood and visualized by the forensic analyst.\n",
    "\n",
    "There are different ways to process it, depending on the type of information one tool or another will be used.\n",
    "\n"
   ]
  },
  {
   "cell_type": "markdown",
   "metadata": {
    "id": "mCsJ6Jocc3cX"
   },
   "source": [
    "**Plaso**"
   ]
  },
  {
   "cell_type": "markdown",
   "metadata": {
    "id": "6DvSXUPmc3cZ"
   },
   "source": [
    "Plaso (Plaso Langar Að Safna Öllu), or super timeline of all the things, is a Python-based engine used by several tools for automatic creation of timelines. Plaso's default behavior is to create super timelines but it also supports creating more targeted timelines.\n",
    "\n",
    "You can read more about it here: https://plaso.readthedocs.io/en/latest/"
   ]
  },
  {
   "cell_type": "markdown",
   "metadata": {
    "id": "7OB8l9ync3cb"
   },
   "source": [
    "But, what is a **forensic artifact**? An artifact in this context is an operating system object which provides information about the activity or configuration of the computer or the users. Examples can be: Windows registry, Prefetch files, Memory objects..."
   ]
  },
  {
   "cell_type": "markdown",
   "metadata": {
    "id": "2Rfx0xdLc3cc"
   },
   "source": [
    "Creating a Timeline with Plaso\n",
    "\n",
    "---\n",
    "\n"
   ]
  },
  {
   "cell_type": "markdown",
   "metadata": {
    "id": "8Mq6tOJ_c3cd"
   },
   "source": [
    " - **Using log2timeline and psort**:\n",
    "\n",
    "    You can use “log2timeline” and “psort”. For example:"
   ]
  },
  {
   "cell_type": "code",
   "execution_count": null,
   "metadata": {
    "id": "uwproGrgc3ce"
   },
   "outputs": [],
   "source": [
    "# Do not run this cell. It is intended to be run on the console.\n",
    "\n",
    "# log2timeline.py --storage-file timeline.plaso image.raw\n",
    "# psort.py -o dynamic -w registrar.csv timeline.plaso"
   ]
  },
  {
   "cell_type": "markdown",
   "metadata": {
    "id": "qIGOsPa6c3cf"
   },
   "source": [
    "**Mactime**"
   ]
  },
  {
   "cell_type": "markdown",
   "metadata": {
    "id": "fQ5tq0J4c3cf"
   },
   "source": [
    "Creates an ASCII timeline of file activity based on the output of the fls tool. It can be used to detect anomalous behavior and reconstruct events. The fls command must use the -m flag to generate an output with timestamps.\n",
    "\n",
    "Mactime reads the body file (using the '-b' argument), which contains a line for each file or event. Mactime then sorts the data based on its temporal data and prints the result. It can optionally use a starting date or a date range to limit the data being printed. \n",
    "\n",
    "You can read more about it here: https://wiki.sleuthkit.org/index.php?title=Mactime"
   ]
  },
  {
   "cell_type": "markdown",
   "metadata": {
    "id": "I310fSvOc3cf"
   },
   "source": [
    "Creating a Timeline with Mactime\n",
    "\n",
    "\n",
    "---\n",
    "\n"
   ]
  },
  {
   "cell_type": "code",
   "execution_count": null,
   "metadata": {
    "id": "ZBbdPYvic3cg"
   },
   "outputs": [],
   "source": [
    "# Do not run the cell. It is intended to be run on the console\n",
    "# mactime -b body.txt 2002-03-01 > tl.03.01.2002.txt"
   ]
  },
  {
   "cell_type": "markdown",
   "metadata": {
    "id": "7pD_wuFqc3ch"
   },
   "source": [
    "Some of the arguments for mactime help to make the output more readable. On a Unix system, the User and Group IDs can be mapped to actual names by using the '-p' and '-q' flags. The '-z' flag can be used to specify the time zone, if it is different from the local timezone. "
   ]
  },
  {
   "cell_type": "code",
   "execution_count": null,
   "metadata": {
    "id": "uoSp92YGc3ch"
   },
   "outputs": [],
   "source": [
    "# Do not run the cell. It is intended to be run on the console\n",
    "# mactime -b body.txt -z EST5EDT 2002-03-01 > tl.03.01.2002.txt"
   ]
  },
  {
   "cell_type": "markdown",
   "metadata": {
    "id": "B0fouNPIc3ci"
   },
   "source": [
    "If you are going to include the resulting timeline in a document, then maybe it is better to supply the '-d' argument to output in comma delimited format. The resulting timeline can then be imported into a spread sheet and included as a table.\n",
    "\n",
    "The '-i' option in 'mactime' creates an index summary file, including how many hits were found per day or hour. Using '-d' with '-i' allows one to easily import data into a spread sheet that can be graphed to spot suspicious behavior."
   ]
  },
  {
   "cell_type": "code",
   "execution_count": null,
   "metadata": {
    "id": "fc_Y0r8Jc3cj"
   },
   "outputs": [],
   "source": [
    "# Do not run the cell. It is intended to be run on the console\n",
    "# mactime -b body.txt -d -i hour data/tl-hour-sum.txt > timeline.txt"
   ]
  },
  {
   "cell_type": "markdown",
   "metadata": {
    "id": "a2Dc6wGoc3cj"
   },
   "source": [
    "**Autoruns**"
   ]
  },
  {
   "cell_type": "markdown",
   "metadata": {
    "id": "EhYf3eeJc3ck"
   },
   "source": [
    "Autoruns is used to explore or detect persistent mechanisms. It reports Explorer shell extensions, toolbars, browser helper objects, Winlogon notifications, auto-start services, and much more. Autoruns goes way beyond other autostart utilities.\n",
    "\n",
    "- Displays programs that are configured to run during bootup or login\n",
    "- Lists the programs and drivers that will start from startup folders and registry keys\n",
    "\n"
   ]
  },
  {
   "cell_type": "markdown",
   "metadata": {
    "id": "uifHRIRNc3ck"
   },
   "source": [
    "<img src=\"https://github.com/ds4n6/odsc_notebooks_colab/blob/main/Pictures/autoruns.jpg?raw=1\">\n"
   ]
  },
  {
   "cell_type": "markdown",
   "metadata": {
    "id": "hFhvX2M9c3cl"
   },
   "source": [
    "**Tshark**"
   ]
  },
  {
   "cell_type": "markdown",
   "metadata": {
    "id": "JS2dqwH_c3cl"
   },
   "source": [
    "TShark is a network protocol analyzer. It lets you capture packet data from a live network, or read packets from a previously saved capture file, either printing a decoded form of those packets to the standard output or writing the packets to a file.\n",
    "\n",
    "You can read more about it here: https://www.wireshark.org/docs/man-pages/tshark.html"
   ]
  },
  {
   "cell_type": "markdown",
   "metadata": {
    "id": "TMZHcwChc3cn"
   },
   "source": [
    "Creating a Timeline with Tshark\n",
    "\n",
    "---\n",
    "\n"
   ]
  },
  {
   "cell_type": "markdown",
   "metadata": {
    "id": "RenDrszmc3cn"
   },
   "source": [
    "Network packets are in timeline sequence from the earliest to the latest packets.\n",
    "\n",
    "The -n option disables network object name resolution (such as hostname, TCP and UDP port names). The -r option reads the specified PCAP file.\n",
    "The -Y option will filter based on Wireshark filters. The -T option displays the type of data (ek,fields,json and pdml) with -E/-e that controls the fields that you want."
   ]
  },
  {
   "cell_type": "code",
   "execution_count": null,
   "metadata": {
    "id": "7FF8_5muc3cn"
   },
   "outputs": [],
   "source": [
    "# Do not run the cell.\n",
    "# tshark -n -r body.pcap -Y \"http.request.method == \"GET\"\" -T fields -Eheader=y -e ip.src -e ip.dst -e tcp.srcport -e tcp.dstport -e http.request.uri -e frame.time'"
   ]
  },
  {
   "cell_type": "markdown",
   "metadata": {
    "id": "2midhWCnc3co"
   },
   "source": [
    "# **FORENSIC DATA READING**"
   ]
  },
  {
   "cell_type": "markdown",
   "metadata": {
    "id": "9qL-jOuoc3co"
   },
   "source": [
    "## **READING FILES WITH PANDAS:**"
   ]
  },
  {
   "cell_type": "markdown",
   "metadata": {
    "id": "EchqIPlCc3cp"
   },
   "source": [
    "After parsing the Disk Image evidence with plaso, we have obtained a JSON that we need to load into the notebook to be able to analyze it in detail.\n",
    "\n",
    "JSON files can be read with pandas. All you need to do is use the **pd.read_json()** function, that will convert your JSON into a pandas object. You can find more information at https://pandas.pydata.org/pandas-docs/version/1.1.3/reference/api/pandas.read_json.html\n"
   ]
  },
  {
   "cell_type": "code",
   "execution_count": null,
   "metadata": {
    "id": "Aj_YRIGzc3cq"
   },
   "outputs": [],
   "source": [
    "plaso_JSON = pd.read_json(home_path[0]+'/Data/DC_plaso.json')"
   ]
  },
  {
   "cell_type": "markdown",
   "metadata": {
    "id": "pUoXYPZwc3cq"
   },
   "source": [
    "Let's see how the JSON file looks like:\n",
    "\n",
    " - With the type() function we can see the object type that we obtained"
   ]
  },
  {
   "cell_type": "code",
   "execution_count": null,
   "metadata": {
    "id": "zRB5azDdc3cr"
   },
   "outputs": [],
   "source": [
    "type(plaso_JSON)"
   ]
  },
  {
   "cell_type": "markdown",
   "metadata": {
    "id": "z1J5AYJYc3cr"
   },
   "source": [
    " - Next, let’s see what its columns are and how many it has"
   ]
  },
  {
   "cell_type": "code",
   "execution_count": null,
   "metadata": {
    "id": "SkUeDGrDc3cr"
   },
   "outputs": [],
   "source": [
    "plaso_JSON.columns"
   ]
  },
  {
   "cell_type": "markdown",
   "metadata": {
    "id": "MrVlCW8Lc3cr"
   },
   "source": [
    " - Each column corresponds to a different event. Let’s select one of them and see what information it contains."
   ]
  },
  {
   "cell_type": "code",
   "execution_count": null,
   "metadata": {
    "id": "LjBaVB_cc3cs"
   },
   "outputs": [],
   "source": [
    "plaso_JSON['event_0']"
   ]
  },
  {
   "cell_type": "markdown",
   "metadata": {
    "id": "zi5NuvrBc3cs"
   },
   "source": [
    "And what about other file types? We can read, for example, a Filesystem Timeline parsed with mactime in CSV format. These files can be read with **pd.read_csv()**. You can find more information at https://pandas.pydata.org/pandas-docs/version/1.1.3/reference/api/pandas.read_csv.html"
   ]
  },
  {
   "cell_type": "markdown",
   "metadata": {
    "id": "GMzsFrrUc3ct"
   },
   "source": [
    "**Filesystem Timeline**\n",
    "\n",
    " \n",
    "This file (fstl) provides information on the system activity in a timeline. This will help us to see traces of malicious activity over time.\n",
    "\n",
    "- Output from fls tool\n",
    "- Lists the file and directory in a filesystem\n",
    "\n",
    "You can find more information at: https://wiki.sleuthkit.org/index.php?title=Timelines"
   ]
  },
  {
   "cell_type": "code",
   "execution_count": null,
   "metadata": {
    "id": "fUgIGk9Ec3ct"
   },
   "outputs": [],
   "source": [
    "mactime_CSV = pd.read_csv(home_path[0]+'/Data/DC_fstl.csv')"
   ]
  },
  {
   "cell_type": "code",
   "execution_count": null,
   "metadata": {
    "id": "lG5N_jqhc3cu"
   },
   "outputs": [],
   "source": [
    "mactime_CSV.columns"
   ]
  },
  {
   "cell_type": "code",
   "execution_count": null,
   "metadata": {
    "id": "UJW-JDFRc3cu"
   },
   "outputs": [],
   "source": [
    "type(mactime_CSV)"
   ]
  },
  {
   "cell_type": "markdown",
   "metadata": {
    "id": "3SZvvCXHc3cv"
   },
   "source": [
    "The CSV is saved in a DataFrame. We can see what its shape looks like without printing all the lines using the **head()** function, which gives us the first 5 lines."
   ]
  },
  {
   "cell_type": "code",
   "execution_count": null,
   "metadata": {
    "id": "NQh0qGLHc3cv"
   },
   "outputs": [],
   "source": [
    "mactime_CSV.head()"
   ]
  },
  {
   "cell_type": "markdown",
   "metadata": {
    "id": "TK5TPNp8c3cw"
   },
   "source": [
    "## **READING FILES WITH CHRYSALIS**\n"
   ]
  },
  {
   "cell_type": "markdown",
   "metadata": {
    "id": "GuVG2SyKc3cw"
   },
   "source": [
    "Can we make it easier? We can read many data types with only one function from CHRYSALIS python library: **xread()**. This function not only reads the data and provides you with a DataFrame, like the previous ones we have seen with pandas, but it transforms and harmonizes the information to have it in the best possible way.\n",
    "\n",
    "You can read more about it here: https://www.ds4n6.io/tools/chrysalis.html"
   ]
  },
  {
   "cell_type": "markdown",
   "metadata": {
    "id": "QMdhngXoc3cw"
   },
   "source": [
    "Let's start reading a plaso file from Desktop. There are different fields that we can fill in to read in one way or another, but the required fields are only two: tool and rootpath. Tool refers to the tool used to parse evidence (plaso, mactime...) and rootpath refers to the path where the file is stored.\n",
    "\n",
    "Once we run the cell we will see the file (if rootpath is correct) or we will have to look in the drop-down menu (if the rootpath is incorrect or empty).\n",
    "\n",
    "<span style=\"color:purple\">\n",
    "    <b>INSTRUCTIONS</b>\n",
    "    \n",
    "<ul>\n",
    "    <li>Execute cell</li>\n",
    "    <li>Click SELECT & READ</li>\n",
    "</ul>\n",
    "    </span>"
   ]
  },
  {
   "cell_type": "code",
   "execution_count": null,
   "metadata": {
    "id": "E3fOkKtXc3cy"
   },
   "outputs": [],
   "source": [
    "xread(tool='plaso',rootpath=home_path[0]+'/Data/DESKTOP_plaso.json')"
   ]
  },
  {
   "cell_type": "markdown",
   "metadata": {
    "id": "AiQI-mwmc3cz"
   },
   "source": [
    "After the execution of the previous function, we can see all the artifacts extracted and harmonized (we will see later what harmonize actually means). This function saves the result in a variable called d4.out. So... Let's name another variable to save the information inside:"
   ]
  },
  {
   "cell_type": "code",
   "execution_count": null,
   "metadata": {
    "id": "iuDOMKzlc3cz"
   },
   "outputs": [],
   "source": [
    "pldfs_dsk = d4.out"
   ]
  },
  {
   "cell_type": "markdown",
   "metadata": {
    "id": "-x1lUqooc3cz"
   },
   "source": [
    "As previously mentioned, reading isn't everything that this function does! It can **harmonize** the data and convert it into a **Dictionary of DataFrames**"
   ]
  },
  {
   "cell_type": "markdown",
   "metadata": {
    "id": "xnXn0NxCc3c0"
   },
   "source": [
    "**Nomenclature for variables in the DS4N6 project**\n",
    " - **[tool]df**: A single DataFrame that saves all the file information\n",
    " - **[tool]dfs**: A dictionary composed of DataFrames that save the file information divided by artifacts\n",
    " \n",
    "For example, if we have a plaso we will create a dictionary and the variable name will be pldfs. On the other hand, if we use a fstl we will receive only one DataFrame and the variable name will be fstldf."
   ]
  },
  {
   "cell_type": "markdown",
   "metadata": {
    "id": "HEpWR3ZWc3c0"
   },
   "source": [
    "Let's see all the DataFrames names inside pldfs_dsk with **keys()** function, which allows us to see every key on the dictionary"
   ]
  },
  {
   "cell_type": "code",
   "execution_count": null,
   "metadata": {
    "id": "pYElIVndc3c0"
   },
   "outputs": [],
   "source": [
    "pldfs_dsk.keys()"
   ]
  },
  {
   "cell_type": "markdown",
   "metadata": {
    "id": "dkA5x3_Wc3c1"
   },
   "source": [
    "Then let’s select one of the DataFrames and see how it looks like. After using **xread()** the information will be much more accesible and easier to read than in a JSON object. We won't have a column per event, but a row. Besides, we will have columns (those prefixed with D4_) with the aim of being explanatory columns, which will help us understanding the data."
   ]
  },
  {
   "cell_type": "code",
   "execution_count": null,
   "metadata": {
    "id": "dTQvJvNWc3c1"
   },
   "outputs": [],
   "source": [
    "pldfs_dsk['windows_registry_installation']"
   ]
  },
  {
   "cell_type": "markdown",
   "metadata": {
    "id": "RJBoVjsXc3c2"
   },
   "source": [
    "Now let's read the plaso output from the Domain Controller following the same steps:\n",
    "\n",
    "<span style=\"color:purple\">\n",
    "    <b>INSTRUCTIONS</b>\n",
    "    \n",
    "<ul>\n",
    "    <li>Execute cell</li>\n",
    "    <li>Click SELECT & READ</li>\n",
    "</ul>\n",
    "    </span>"
   ]
  },
  {
   "cell_type": "code",
   "execution_count": null,
   "metadata": {
    "id": "ZopCcA_ac3c2"
   },
   "outputs": [],
   "source": [
    "xread(tool='plaso',rootpath=home_path[0]+'/Data/DC_plaso.json')"
   ]
  },
  {
   "cell_type": "code",
   "execution_count": null,
   "metadata": {
    "id": "suJf3cKkc3c3"
   },
   "outputs": [],
   "source": [
    "pldfs_srv = d4.out"
   ]
  },
  {
   "cell_type": "markdown",
   "metadata": {
    "id": "IEQMWlDOc3c4"
   },
   "source": [
    "Now we have stored in two different variables the plaso data of the two machines that we have to analyze:\n",
    " - **Domain Controller Server**: pldfs_srv\n",
    " - **Desktop**: pldfs_dsk\n",
    " \n",
    "This information comes from the evidence of the disk image. Therefore, it will provide us with valuable information through a large number of different artifacts."
   ]
  },
  {
   "cell_type": "markdown",
   "metadata": {
    "id": "P3Q7q8i4c3c4"
   },
   "source": [
    "The next file we are going to read will be filesystem timeline. It will return us a single DataFrame with all the information inside it. In addition, this reading will be faster than the previous ones.\n",
    "\n",
    "<span style=\"color:purple\">\n",
    "    <b>INSTRUCTIONS</b>\n",
    "    \n",
    "<ul>\n",
    "    <li>Execute cell</li>\n",
    "    <li>Click SELECT & READ</li>\n",
    "</ul>\n",
    "    </span>"
   ]
  },
  {
   "cell_type": "code",
   "execution_count": null,
   "metadata": {
    "id": "NcmRiK15c3c5"
   },
   "outputs": [],
   "source": [
    "xread(tool='mactime',rootpath=home_path[0]+'/Data/DC_fstl.csv')"
   ]
  },
  {
   "cell_type": "code",
   "execution_count": null,
   "metadata": {
    "id": "3OX8IaJjc3c5"
   },
   "outputs": [],
   "source": [
    "fstldf = d4.out"
   ]
  },
  {
   "cell_type": "markdown",
   "metadata": {
    "id": "3VrtG81Pc3c6"
   },
   "source": [
    "And now, following the same steps, we will proceed to the reading of the autoruns file. In this case we need to specify its encoding, which being different from utf-18, not specifying it will give us an error. Therefore, in this **xread()** execution we will add a new option which will be encoding = 'utf-16'.\n",
    "\n",
    "<span style=\"color:purple\">\n",
    "    <b>INSTRUCTIONS</b>\n",
    "    \n",
    "<ul>\n",
    "    <li>Execute cell</li>\n",
    "    <li>Click SELECT & READ</li>\n",
    "</ul>\n",
    "    </span>"
   ]
  },
  {
   "cell_type": "code",
   "execution_count": null,
   "metadata": {
    "id": "IBD3A7XZc3c6"
   },
   "outputs": [],
   "source": [
    "xread(tool='autoruns',rootpath=home_path[0]+'/Data/DC_autoruns.csv',encoding='utf-16')"
   ]
  },
  {
   "cell_type": "code",
   "execution_count": null,
   "metadata": {
    "id": "tqVfn2_Yc3c7"
   },
   "outputs": [],
   "source": [
    "atrsdf = d4.out"
   ]
  },
  {
   "cell_type": "markdown",
   "metadata": {
    "id": "jZ3z3GfTc3c7"
   },
   "source": [
    "# **INVESTIGATION**"
   ]
  },
  {
   "cell_type": "markdown",
   "metadata": {
    "id": "yP1jxgqjc3c7"
   },
   "source": [
    "Now that we have all the necessary information, we can start the investigation. Its objective will be identifying the attack and damage caused by the attacker."
   ]
  },
  {
   "cell_type": "markdown",
   "metadata": {
    "id": "0pqQrez2c3c7"
   },
   "source": [
    "## **1. OVERVIEW**"
   ]
  },
  {
   "cell_type": "markdown",
   "metadata": {
    "id": "LzPPfKZ3c3c8"
   },
   "source": [
    "<span style=\"color:blue\">**What are the hostnames for the Desktop and DC?** </span>"
   ]
  },
  {
   "cell_type": "markdown",
   "metadata": {
    "id": "u7Hpb3ric3c9"
   },
   "source": [
    "<span style=\"color:blue\">**How many users are there on the Desktop?** </span>"
   ]
  },
  {
   "cell_type": "markdown",
   "metadata": {
    "id": "yWUonzvZc3c9"
   },
   "source": [
    "### 1.2 Understanding of Evidence\n",
    "\n",
    "The first thing that needs to be done on an investigation is understanding the general context of the electronic devices that provided us with the evidence. We can use the plaso output for that:\n",
    "\n",
    " - pldfs_dsk (Desktop)\n",
    " - pldfs_srv (Domain Controller/Server)"
   ]
  },
  {
   "cell_type": "markdown",
   "metadata": {
    "id": "1Exuc6-Cc3c-"
   },
   "source": [
    "We will need to check:\n",
    "\n",
    " - Operating System\n",
    " - Installation Date\n",
    " - Timezone\n",
    " - Users"
   ]
  },
  {
   "cell_type": "markdown",
   "metadata": {
    "id": "t_4PWEHjc3c-"
   },
   "source": [
    "### 1.3 Using DataFrames to View Evidence\n",
    "\n",
    "First, let’s see what DataFrames among all can help us to obtain this information. To do this, we will make a selection of them after viewing all with the function **keys()**"
   ]
  },
  {
   "cell_type": "code",
   "execution_count": null,
   "metadata": {
    "id": "bleUBh62c3c_"
   },
   "outputs": [],
   "source": [
    "pldfs_srv.keys()"
   ]
  },
  {
   "cell_type": "markdown",
   "metadata": {
    "id": "uBOlv9Bfc3c_"
   },
   "source": [
    "The DataFrames we need to look at are:\n",
    "\n",
    " - **windows_registry_installation**: Which contains the information about the operating system\n",
    " - **windows_registry_timezone**: Which contains the information about the timezone\n",
    " - **windows_registry_sam_users**: Which contains the information about the users"
   ]
  },
  {
   "cell_type": "markdown",
   "metadata": {
    "id": "cFlnBBnmc3dA"
   },
   "source": [
    " Let's start with the Domain Controller. We will select with pandas the DataFrame 'windows_registry_installation', which will give us information about the operating system. "
   ]
  },
  {
   "cell_type": "code",
   "execution_count": null,
   "metadata": {
    "id": "DXYX0vRxc3dA"
   },
   "outputs": [],
   "source": [
    "pldfs_srv['windows_registry_installation']"
   ]
  },
  {
   "cell_type": "code",
   "execution_count": null,
   "metadata": {
    "id": "iN3nmpyPc3dA"
   },
   "outputs": [],
   "source": [
    "pldfs_dsk['windows_registry_installation']"
   ]
  },
  {
   "cell_type": "markdown",
   "metadata": {
    "id": "b62lO1WDc3dB"
   },
   "source": [
    "### 1.4 Simple() Function\n",
    "\n",
    "As a special tip, we can use **simple()** function from CHRYSALIS library to read the information better. This function hides the useless columns, doesn't repeat constant columns and simplifies the data.\n",
    "\n",
    "Let's use it for reading the other DataFrames we need: 'windows_registry_timezone' and 'windows_registry_sam_users':"
   ]
  },
  {
   "cell_type": "code",
   "execution_count": null,
   "metadata": {
    "id": "Q0OZAExOc3dB"
   },
   "outputs": [],
   "source": [
    "pldfs_srv['windows_registry_timezone'].simple()"
   ]
  },
  {
   "cell_type": "code",
   "execution_count": null,
   "metadata": {
    "id": "zClZeSoSc3dB"
   },
   "outputs": [],
   "source": [
    "pldfs_srv['windows_registry_sam_users'].simple()"
   ]
  },
  {
   "cell_type": "markdown",
   "metadata": {
    "id": "17sJR2TEc3dC"
   },
   "source": [
    "But... Can we make it even better? With CHRYSALIS we can select analysis functions from a menu! We only need to call **xanalysis()** function. Let's see how it works.\n",
    "\n",
    "<span style=\"color:purple\">\n",
    "<b>INSTRUCTIONS:</b>\n",
    "\n",
    "<ul>\n",
    "    <li>Execute the cell</li>\n",
    "    <li>Select Dictionary as analysis object</li>\n",
    "    <li>Select plaso for the type of analysis</li>\n",
    "    <li>Select Overview as the available analysis</li>\n",
    "</ul>\n",
    "</span>\n"
   ]
  },
  {
   "cell_type": "code",
   "execution_count": null,
   "metadata": {
    "id": "piCNJcKWc3dC"
   },
   "outputs": [],
   "source": [
    "xanalysis(pldfs_srv)"
   ]
  },
  {
   "cell_type": "markdown",
   "metadata": {
    "id": "NP0NHs7gc3dC"
   },
   "source": [
    "As we can see, with this function only the relevant information of the different DataFrames of interest is shown. Let's repeat it for Desktop this time."
   ]
  },
  {
   "cell_type": "code",
   "execution_count": null,
   "metadata": {
    "id": "ecpDRV6yc3dC"
   },
   "outputs": [],
   "source": [
    "xanalysis(pldfs_dsk)"
   ]
  },
  {
   "cell_type": "markdown",
   "metadata": {
    "id": "g01djgmGc3dD"
   },
   "source": [
    "<span style=\"color:blue\">**What are the hostnames for the Desktop and DC?** </span>"
   ]
  },
  {
   "cell_type": "markdown",
   "metadata": {
    "id": "uTe7tICNc3dE"
   },
   "source": [
    "**ANSWER HERE**:\n"
   ]
  },
  {
   "cell_type": "markdown",
   "metadata": {
    "id": "0xRhJCqKc3dE"
   },
   "source": [
    "<span style=\"color:blue\">**How many users are there on the Desktop?** </span>"
   ]
  },
  {
   "cell_type": "markdown",
   "metadata": {
    "id": "czXbohspc3dF"
   },
   "source": [
    "**ANSWER HERE**:\n"
   ]
  },
  {
   "cell_type": "markdown",
   "metadata": {
    "id": "Hh5z4GNqc3dF"
   },
   "source": [
    "### **1.5 CONCLUSIONS**:"
   ]
  },
  {
   "cell_type": "markdown",
   "metadata": {
    "id": "e-2KQ2JZc3dG"
   },
   "source": [
    "**Overview**\n",
    " - On the Domain Controller: \n",
    "     - The operating system is Windows Server 2012 R2 Standard Evaluation\n",
    "     - The Timezone is Pacific Standard Time\n",
    "     \n",
    "     \n",
    " - On the Desktop:\n",
    "     - The operating system is Windows 10 Enterprise Evaluation\n",
    "     - The Timezone is Pacific Standard Time"
   ]
  },
  {
   "cell_type": "markdown",
   "metadata": {
    "id": "yl6tUjhTc3dH"
   },
   "source": [
    "## **2. SUCCESSFUL LOGON ANALYSIS**"
   ]
  },
  {
   "cell_type": "markdown",
   "metadata": {
    "id": "6mClypRoc3dI"
   },
   "source": [
    "The next step of an attack is checking the logon information. We need to check who had access to the system.\n",
    "\n",
    "As mentioned before, an artifact is data that can contain a trace of malicious activity. In order to check the accesses to the two devices, we will use a plaso artifact: The Windows evtx files. "
   ]
  },
  {
   "cell_type": "markdown",
   "metadata": {
    "id": "4nFNmEfzc3dJ"
   },
   "source": [
    "<span style=\"color:blue\">**Which are the events that give us logon information?** </span>"
   ]
  },
  {
   "cell_type": "markdown",
   "metadata": {
    "id": "Op6OnpsPc3dL"
   },
   "source": [
    "<span style=\"color:blue\">**Is there any suspicious logon on the Domain Controller/Server?** </span>"
   ]
  },
  {
   "cell_type": "markdown",
   "metadata": {
    "id": "E4e8V92ec3dL"
   },
   "source": [
    "<span style=\"color:blue\">**Which logon type is it and what does it mean?** </span>"
   ]
  },
  {
   "cell_type": "markdown",
   "metadata": {
    "id": "1xWgv1D7c3dM"
   },
   "source": [
    "<span style=\"color:blue\">**What about the Desktop?** </span>"
   ]
  },
  {
   "cell_type": "markdown",
   "metadata": {
    "id": "8KhutNLEc3dN"
   },
   "source": [
    "### 2.1 Windows Events\n",
    "\n",
    "**Windows evtx Files**\n",
    "-\n",
    "EVTX is a file extension commonly associated with Windows 7+ Event Log Format files. Windows 7+ Event Log Format specification was created by Microsoft. EVTX files are supported by software applications available for devices running Windows. Files with EVTX extension are categorized as System Files files. They contain useful information about system and users such as authentication, file changes, commands executed, etc.\n",
    "\n",
    "There are different types of Windows events. In this case we will use the following Security events ID"
   ]
  },
  {
   "cell_type": "markdown",
   "metadata": {
    "id": "KTMIcsjgc3dN"
   },
   "source": [
    "### 2.2 Windows Security Events\n",
    "\n",
    "\n",
    "**Security evtx**\n",
    "-\n",
    "Contains events such as: \n",
    "- Authentications (valid and invalid logon attempts (Event ID 4624 and 4625 respectively))\n",
    "\n",
    "    - **4624**: Successful logon\n",
    "    - **4625**: Failed logon\n",
    "    \n",
    "    \n",
    "- Objects access (Creation/Modification/Deletion of files)"
   ]
  },
  {
   "cell_type": "markdown",
   "metadata": {
    "id": "1CmEtbIcc3dN"
   },
   "source": [
    "As we know, we have a plaso dictionary that contains quite a few DataFrames and one of them is 'windows_evtx_record'. The next step is converting that DataFrame of events into a dictionary that, instead of containing all the events information together, has different DataFrames for the different categories of events (Security.evtx, System.evtx, etc.)"
   ]
  },
  {
   "cell_type": "code",
   "execution_count": null,
   "metadata": {
    "id": "1AAtF5xzc3dO"
   },
   "outputs": [],
   "source": [
    "pldfs_dsk.keys()"
   ]
  },
  {
   "cell_type": "markdown",
   "metadata": {
    "id": "ujMXFtvgc3dO"
   },
   "source": [
    "<span style=\"color:blue\">**Which are the events that give us logon information?** </span>"
   ]
  },
  {
   "cell_type": "markdown",
   "metadata": {
    "id": "JkuGoi1Cc3dO"
   },
   "source": [
    "**ANSWER HERE**:\n"
   ]
  },
  {
   "cell_type": "markdown",
   "metadata": {
    "id": "cVgD224kc3dP"
   },
   "source": [
    "### 2.3 plaso_get_evtxdfs() Function\n",
    "\n",
    "\n",
    "For that purpose, CHRYSALIS has **plaso_get_evtxdfs()** function which only needs the plaso dictionary name and the hostname that we saw on the Overview analysis."
   ]
  },
  {
   "cell_type": "code",
   "execution_count": null,
   "metadata": {
    "id": "kKSGk1Jcc3dP"
   },
   "outputs": [],
   "source": [
    "evtxrawdfs_dsk = d4pl.plaso_get_evtxdfs(pldfs_dsk, 'DESKTOP-SDN1RPT')"
   ]
  },
  {
   "cell_type": "markdown",
   "metadata": {
    "id": "nCZvLaHqc3dP"
   },
   "source": [
    "Now that the dictionary is created, let's see how it looks using **keys()** function."
   ]
  },
  {
   "cell_type": "code",
   "execution_count": null,
   "metadata": {
    "id": "1WifYok7c3dQ"
   },
   "outputs": [],
   "source": [
    "evtxrawdfs_dsk.keys()"
   ]
  },
  {
   "cell_type": "markdown",
   "metadata": {
    "id": "8hXP5Yfmc3dQ"
   },
   "source": [
    "As previously mentioned, we want Security.evtx and we are particularly interested on its 4624 and 4625 event IDs.\n",
    "\n",
    "For that reason, we are going to select 'Security.evtx' from the 'evtxrawdfs_dsk' dictionary, resulting in a DataFrame: 'secevtxrawdf_dsk'. This DataFrame contains the raw Security events information, in other words, all events with different IDs."
   ]
  },
  {
   "cell_type": "code",
   "execution_count": null,
   "metadata": {
    "id": "BWpVju_ic3dQ"
   },
   "outputs": [],
   "source": [
    "secevtxrawdf_dsk=evtxrawdfs_dsk['Security.evtx']\n",
    "secevtxrawdf_dsk"
   ]
  },
  {
   "cell_type": "markdown",
   "metadata": {
    "id": "ThdLQFZNc3dQ"
   },
   "source": [
    "Now that we obtained a DataFrame with only Security events, wouldn’t it be even better to distinguish by ID? We can create a dictionary of events separating them by ID with **evtid_dfs_build()** function from CHRYSALIS. Let's see how it works!"
   ]
  },
  {
   "cell_type": "code",
   "execution_count": null,
   "metadata": {
    "id": "62YPvJXRc3dR"
   },
   "outputs": [],
   "source": [
    "secevtxdfs_dsk = d4evtx.evtid_dfs_build(secevtxrawdf_dsk)"
   ]
  },
  {
   "cell_type": "markdown",
   "metadata": {
    "id": "CCztzv3qc3dS"
   },
   "source": [
    "Finally, we can create a DataFrame with only 4624 (Successful logon attempts) events."
   ]
  },
  {
   "cell_type": "code",
   "execution_count": null,
   "metadata": {
    "id": "ImK7YhR5c3dS"
   },
   "outputs": [],
   "source": [
    "evts4624df_dsk = secevtxdfs_dsk[4624]"
   ]
  },
  {
   "cell_type": "markdown",
   "metadata": {
    "id": "yg7RiYx5c3dS"
   },
   "source": [
    "We can repeat the same steps for the Domain Controller."
   ]
  },
  {
   "cell_type": "code",
   "execution_count": null,
   "metadata": {
    "id": "vpPeawuJc3dT"
   },
   "outputs": [],
   "source": [
    "evtxrawdfs_srv = d4pl.plaso_get_evtxdfs(pldfs_srv, 'CITADEL-DC01')"
   ]
  },
  {
   "cell_type": "code",
   "execution_count": null,
   "metadata": {
    "id": "fOv4jKoHc3dT"
   },
   "outputs": [],
   "source": [
    "# Create Raw DF with plaso evtx records\n",
    "secevtxrawdf_srv=evtxrawdfs_srv['Security.evtx']\n",
    "# Create DF dict with individual Event IDs\n",
    "secevtxdfs_srv = d4evtx.evtid_dfs_build(secevtxrawdf_srv)\n",
    "evts4624df_srv = secevtxdfs_srv[4624]"
   ]
  },
  {
   "cell_type": "markdown",
   "metadata": {
    "id": "2a-_oy_Bc3dV"
   },
   "source": [
    "Now's when the magic happens!\n",
    "\n",
    "With **xanalysis()** function from CHRYSALIS we can see a statistical analysis of events 4624 and, consequently, obtain valuable information regarding the accesses to the machine.\n",
    "\n",
    "How does it work? As explained before, you have to select the options you want from the drop-down menus. In this case we must select only the type of analysis, which in this case will be \"Logon info summary\", since we have a DataFrame (\"evts4624df_srv\") and we do not have the option of Dictionary.\n",
    "\n",
    "If you want to explore different options you can load the event dictionary by ID \"secevtxdfs_srv\"."
   ]
  },
  {
   "cell_type": "markdown",
   "metadata": {
    "id": "bWhvdj-jc3dV"
   },
   "source": [
    "### 2.4 xanalysis() Function"
   ]
  },
  {
   "cell_type": "markdown",
   "metadata": {
    "id": "zB_lSv7Qc3dV"
   },
   "source": [
    "<span style=\"color:purple\">\n",
    "<b>INSTRUCTIONS:</b>\n",
    "    <ul>\n",
    "    <li>Execute the cell.</li>\n",
    "    <li>Select Logon info summary as the available analysis.</li>\n",
    "    <li>Click on Export Result to d4.out.</li>\n",
    "</ul>\n",
    "</span>\n",
    "\n",
    "**ADVICE: If you see the graph very small execute the function again.**"
   ]
  },
  {
   "cell_type": "code",
   "execution_count": null,
   "metadata": {
    "id": "DDjxU7D1c3dV"
   },
   "outputs": [],
   "source": [
    "# Domain Controller\n",
    "xanalysis(evts4624df_srv)"
   ]
  },
  {
   "cell_type": "markdown",
   "metadata": {
    "id": "jH7L_yGCc3dW"
   },
   "source": [
    "As we can see, there's a lot of information to process here. So let's divide it in different sections:\n",
    " - **Workstation name table**: This is also known as the machine name or host name. It is the unique name you or your system administrator gave to the machine you are using. This is usually not the same name as your user name or login name. This is the machine name that other users see over the network, such as from electronic mail. The information in this table represents all the workstation names that appear in the data and how many times they appear. In this way we can see if they are common or exceptional.\n",
    " - **IP ADDRESS table**: An IP address is a unique address that identifies a device on the internet or a local network. IP stands for \"Internet Protocol,\" which is the set of rules governing the format of data sent via the internet or local network. The information in this table represents all the IP addresses that appear in the data and how many times they appear. This way we can see, again, if they are common or exceptional.\n",
    " - **FIRST table**: The Target User Name column indicates the account for whom the new logon was created, i.e. the account that was logged on. On the Timestamp column we can see the first time that the user logged on. This gives us valuable information because we can actually see if its a new user or a common one.\n",
    " - **LAST table**: In this case the information provided is the same as in the previous table but with the last time that the user logged on.\n",
    " - **STATS table**: The information in this table represents all the Target User Names that appear in the data and how many times they appear. In this way we can see if they are common or exceptional.\n",
    " - **SID table**: A SID is a number used to identify user, group, and computer accounts in Windows. They're created when the account is first made in Windows and no two SIDs on a computer are ever the same. This table shows us the user name matching its SID."
   ]
  },
  {
   "cell_type": "markdown",
   "metadata": {
    "id": "6Tqn03dYc3dX"
   },
   "source": [
    "- **Logons graph:** This graph shows the different accesses that a combination of Workstation Name, User name, Ip Address and LogonType has had. But, first things first... How many logon types we have? What does this mean?\n",
    "\n",
    "    *   2: Interactive (logon at keyboard and screen of system)\n",
    "    *   3: Network (i.e. connection to shared folder on this computer from elsewhere on network)\n",
    "    *   7: Unlock (i.e. unnattended workstation with password protected screen saver)\n",
    "    *   10: RemoteInteractive (Terminal Services, Remote Desktop or Remote Assistance)\n",
    "\n",
    "\n",
    "This graph offers us the possibility of identifying patterns visually and, therefore, that we do not overlook something anomalous. Besides, we can also evaluate if the logon was dangerous or not.\n"
   ]
  },
  {
   "cell_type": "markdown",
   "metadata": {
    "id": "ozJUx6C0c3dX"
   },
   "source": [
    " - **Logons table**: The last table contains the same information as the graph but on a DataFrame format. This way we can take a closer look and export it for making other analysis on our own. So let's export it and save it in a variable named \"successful_logons_df\""
   ]
  },
  {
   "cell_type": "code",
   "execution_count": null,
   "metadata": {
    "id": "NChF-o1Fc3dY"
   },
   "outputs": [],
   "source": [
    "successful_logons_df = d4.out"
   ]
  },
  {
   "cell_type": "code",
   "execution_count": null,
   "metadata": {
    "id": "f8U5FDqnc3dY"
   },
   "outputs": [],
   "source": [
    "successful_logons_df.simple()"
   ]
  },
  {
   "cell_type": "markdown",
   "metadata": {
    "id": "tGSINVXic3dZ"
   },
   "source": [
    "We can't read all rows because of the current configuration. There's a way of changing it manually and set all the display options one by one. In this case we would need **pd.options.display.max_rows()** function from pandas.\n",
    "\n",
    "We can change other things like min rows, max columns, etc. To change all of them at the same time we use **xdisplay()** function from CHRYSALIS. In this case, we want more rows, so we need to change \"display.max_rows\" for 25. Let's see how it works!\n",
    "\n",
    "<span style=\"color:purple\">\n",
    "<b>INSTRUCTIONS:</b>\n",
    "    <ul>\n",
    "    <li>Execute the cell.</li>\n",
    "    <li>On 'display:max_rows' change the number for 25.</li>\n",
    "</ul>\n",
    "</span>\n"
   ]
  },
  {
   "cell_type": "code",
   "execution_count": null,
   "metadata": {
    "id": "A5otr3ezc3da"
   },
   "outputs": [],
   "source": [
    "xdisplay()"
   ]
  },
  {
   "cell_type": "code",
   "execution_count": null,
   "metadata": {
    "id": "eRlzp4wRc3da"
   },
   "outputs": [],
   "source": [
    "successful_logons_df.simple()"
   ]
  },
  {
   "cell_type": "markdown",
   "metadata": {
    "id": "H0bBAOntc3da"
   },
   "source": [
    "Let's talk about everything we discovered on the analysis. We can see at first view that there's a very strange Workstation Name: kali. Besides, the \"194.61.24.102\" IP address catches our attention because it's not a common one on the machine. Finally, on \"successful_logons_df\" rows 18 and 20 have never happened before. We can clearly see it on the graph.\n",
    "\n",
    "**So let's keep in mind kali and 194.61.24.102**"
   ]
  },
  {
   "cell_type": "markdown",
   "metadata": {
    "id": "wnRlv7wlc3dc"
   },
   "source": [
    "<span style=\"color:blue\">**Is there any suspicious logon on the Domain Controller/Server?** </span>"
   ]
  },
  {
   "cell_type": "markdown",
   "metadata": {
    "id": "Xa-BUDx_c3dc"
   },
   "source": [
    "**ANSWER HERE**:\n"
   ]
  },
  {
   "cell_type": "markdown",
   "metadata": {
    "id": "7TwfxPeTc3dc"
   },
   "source": [
    "<span style=\"color:blue\">**Which logon type is it and what does it mean?** </span>"
   ]
  },
  {
   "cell_type": "markdown",
   "metadata": {
    "id": "LpX-U3o0c3dd"
   },
   "source": [
    "**ANSWER HERE**:\n"
   ]
  },
  {
   "cell_type": "markdown",
   "metadata": {
    "id": "S0O7zFj-c3dd"
   },
   "source": [
    "We can repeat the same steps for the Desktop:"
   ]
  },
  {
   "cell_type": "markdown",
   "metadata": {
    "id": "aQnKFlq1c3dd"
   },
   "source": [
    "<span style=\"color:purple\">\n",
    "<b>INSTRUCTIONS:</b>\n",
    "    <ul>\n",
    "    <li>Execute the cell.</li>\n",
    "    <li>Select Logon info summary as the available analysis.</li>\n",
    "</ul>\n",
    "</span>\n",
    "\n",
    "**ADVICE: If you see the graph very small execute the function again.**"
   ]
  },
  {
   "cell_type": "code",
   "execution_count": null,
   "metadata": {
    "id": "KcYjBJhWc3dd"
   },
   "outputs": [],
   "source": [
    "xanalysis(evts4624df_dsk)"
   ]
  },
  {
   "cell_type": "markdown",
   "metadata": {
    "id": "w0hIGECFc3de"
   },
   "source": [
    "We can see that 7 and 9 have never happened before and that's suspicious.\n",
    "\n",
    "**Let's not forget 10.42.85.10 IP address**"
   ]
  },
  {
   "cell_type": "markdown",
   "metadata": {
    "id": "ogyKxNgoc3de"
   },
   "source": [
    "<span style=\"color:blue\">**What about the Desktop?** </span>"
   ]
  },
  {
   "cell_type": "markdown",
   "metadata": {
    "id": "n51qhmzoc3de"
   },
   "source": [
    "**ANSWER HERE**:\n"
   ]
  },
  {
   "cell_type": "markdown",
   "metadata": {
    "id": "7t_jV5a5c3df"
   },
   "source": [
    "### **2.5 CONCLUSIONS**:"
   ]
  },
  {
   "cell_type": "markdown",
   "metadata": {
    "id": "Yy3uHEUWc3df"
   },
   "source": [
    "**2. Logon Analysis**\n",
    "\n",
    " - On the Domain Controller: Suspicious activity on the 19th of September 2020 (kali and 194.61.24.102 -> User administrator)\n",
    " - On the Desktop: Suspicious activity on the 19th of September 2020 (User administrator)"
   ]
  },
  {
   "cell_type": "markdown",
   "metadata": {
    "id": "Pg-2DFbLc3df"
   },
   "source": [
    "## **3. CLOSER LOOK INTO DOMAIN CONTROLLER LOGONS**"
   ]
  },
  {
   "cell_type": "markdown",
   "metadata": {
    "id": "DegdxHK6c3df"
   },
   "source": [
    "<span style=\"color:blue\">**At what time did the suspicious logon ocurred on the Domain Controller/Server?** </span>"
   ]
  },
  {
   "cell_type": "markdown",
   "metadata": {
    "id": "hZNwMxY7c3dg"
   },
   "source": [
    "### 3.1 Suspicious Logons\n",
    "\n",
    "Let's look at the suspicious logons closer, reading the 4624 DataFrames from Domain Controller directly from the DataFrame, using the **simple()** function from CHRYSALIS again."
   ]
  },
  {
   "cell_type": "code",
   "execution_count": null,
   "metadata": {
    "id": "7rrlhQ72c3dg"
   },
   "outputs": [],
   "source": [
    "secevtxdfs_srv[4624].simple()"
   ]
  },
  {
   "cell_type": "markdown",
   "metadata": {
    "id": "U8sMNJOMc3dg"
   },
   "source": [
    "There are 2540 rows so it would be a huge DataFrame using **xdisplay()**... Why don't we use **xmenu()**?\n",
    "\n",
    "**xmenu()** is a function from CHRYSALIS which allows us to display huge DataFrames, select them with a menu directly from a dictionary, apply the simple function and beautify them. \n",
    "\n",
    "<span style=\"color:purple\">\n",
    "<b>INSTRUCTIONS:</b>\n",
    "\n",
    "<ul>\n",
    "    <li>Execute the cell</li>\n",
    "    <li>Select 4624 as DataFrame on the left drop-down menu</li>\n",
    "    <li>Select qgrid as grid on the middle drop-down menu<\\li>\n",
    "    <li>Search for the logons we previously saw on the logon analysis. Pay special attention to the Timestamp, WorkstationName and IpAddress columns<\\li>   \n",
    "</ul>\n",
    "</span>\n",
    "Let's see how it works!"
   ]
  },
  {
   "cell_type": "code",
   "execution_count": null,
   "metadata": {
    "id": "Ozl1Tj6pc3dh"
   },
   "outputs": [],
   "source": [
    "xmenu(secevtxdfs_srv)"
   ]
  },
  {
   "cell_type": "markdown",
   "metadata": {
    "id": "XtKIfkg-c3dh"
   },
   "source": [
    "We selected DataFrame 4624 and qgrid. This way we can display all the information and filter it by columns."
   ]
  },
  {
   "cell_type": "markdown",
   "metadata": {
    "id": "SZMaFKVgc3dh"
   },
   "source": [
    "<span style=\"color:blue\">**At what time did the suspicious logon ocurr on the Domain Controller/Server?** </span>\n",
    "\n",
    "**ANSWER HERE**:\n",
    "\n",
    "\n"
   ]
  },
  {
   "cell_type": "markdown",
   "metadata": {
    "id": "wzGKiHkoc3di"
   },
   "source": [
    "## 3.2. Checking Failed Logons"
   ]
  },
  {
   "cell_type": "markdown",
   "metadata": {
    "id": "2Uqe_uycc3di"
   },
   "source": [
    "The next question would be: How did the atacker manage to enter? The most usual cases are Brute Force (making a lot of attempts to find the correct password) and credentials theft. We can check the 4625 events (that had failed logons) to get more information and check if it's been Brute Force."
   ]
  },
  {
   "cell_type": "markdown",
   "metadata": {
    "id": "a_TB14Koc3dj"
   },
   "source": [
    "<span style=\"color:purple\">\n",
    "<b>INSTRUCTIONS:</b>\n",
    "\n",
    "<ul>\n",
    "    <li>Execute the cell</li>\n",
    "    <li>Select 4625 as DataFrame on the left drop-down menu</li>\n",
    "    <li>Select qgrid as grid on the middle drop-down menu<\\li>\n",
    "</ul>\n",
    "</span>"
   ]
  },
  {
   "cell_type": "code",
   "execution_count": null,
   "metadata": {
    "id": "y4-IRnYdc3dj"
   },
   "outputs": [],
   "source": [
    "xmenu(secevtxdfs_srv)"
   ]
  },
  {
   "cell_type": "markdown",
   "metadata": {
    "id": "wyQHKiyPc3dj"
   },
   "source": [
    "There are many failed logons from **kali**. This seems a Brute Force network."
   ]
  },
  {
   "cell_type": "markdown",
   "metadata": {
    "id": "-Yzp996Mc3dj"
   },
   "source": [
    "### **3.3 CONCLUSIONS**:"
   ]
  },
  {
   "cell_type": "markdown",
   "metadata": {
    "id": "KPyZMVQCc3dk"
   },
   "source": [
    "**3. CLOSER LOOK INTO DOMAIN CONTROLLER LOGONS**\n",
    "\n",
    " - Successful logon at 03:21 AM from kali\n",
    " - Many failed logons from kali trying to enter on the Domain Controller"
   ]
  },
  {
   "cell_type": "markdown",
   "metadata": {
    "id": "ghl3wqAIc3dk"
   },
   "source": [
    "## **4. FAILED LOGONS**"
   ]
  },
  {
   "cell_type": "markdown",
   "metadata": {
    "id": "oP8CUTx7c3dm"
   },
   "source": [
    "<span style=\"color:blue\">**How many failed logons occurred on the Domain Controller/Server?** </span>\n"
   ]
  },
  {
   "cell_type": "markdown",
   "metadata": {
    "id": "CT8KkWeCc3dm"
   },
   "source": [
    "<span style=\"color:blue\">**At what time was the Brute Force used?** </span>\n"
   ]
  },
  {
   "cell_type": "markdown",
   "metadata": {
    "id": "TKO3KaFDc3dm"
   },
   "source": [
    "Now that we’ve seen the data, let’s create a graph that shows us what happened in a more visual way."
   ]
  },
  {
   "cell_type": "markdown",
   "metadata": {
    "id": "1nljbeA5c3dn"
   },
   "source": [
    "### 4.1. **Matplotlib**\n",
    "\n",
    "Matplotlib is a comprehensive library for creating static, animated, and interactive visualizations in Python.\n",
    "\n",
    "- Allows you to plot a DataFrame.\n",
    "- Allows editing many aspects of the chart.\n",
    "- There are many types of graphics from which you can choose.\n",
    "\n",
    "\n",
    "**Plotting the failed logon events based on the hourly timestamps can help us understand if there's been Brute Force**\n"
   ]
  },
  {
   "cell_type": "markdown",
   "metadata": {
    "id": "t990fX3Hc3dn"
   },
   "source": [
    "First, we’re going to create a DataFrame that contains 4625 events and we’re going to select only the EventID_ column. In addition, we will use the **head()** function to visualize its first 5 lines and to understand how it is."
   ]
  },
  {
   "cell_type": "code",
   "execution_count": null,
   "metadata": {
    "id": "-9CeWxyBc3dn"
   },
   "outputs": [],
   "source": [
    "failedlogons = secevtxdfs_srv[4625][['EventID_']]\n",
    "failedlogons.head()"
   ]
  },
  {
   "cell_type": "markdown",
   "metadata": {
    "id": "gmcAd0sxc3do"
   },
   "source": [
    "Next, we will use the index, which contains the date, to create a new column."
   ]
  },
  {
   "cell_type": "code",
   "execution_count": null,
   "metadata": {
    "id": "yb56F0eWc3do"
   },
   "outputs": [],
   "source": [
    "failedlogons['Timestamp'] = failedlogons.index\n",
    "failedlogons.head()"
   ]
  },
  {
   "cell_type": "markdown",
   "metadata": {
    "id": "uRc3Cvkqc3dp"
   },
   "source": [
    "Next, let’s do an hourly count of the number of times the event 4625 appears on the DataFrame."
   ]
  },
  {
   "cell_type": "code",
   "execution_count": null,
   "metadata": {
    "id": "H_TzLdErc3dp"
   },
   "outputs": [],
   "source": [
    "unique_logons_df = pd.Series(failedlogons['Timestamp']).resample('H').nunique()\n",
    "unique_logons_df.head()"
   ]
  },
  {
   "cell_type": "markdown",
   "metadata": {
    "id": "_BQPwJ9Qc3dq"
   },
   "source": [
    "And finally, we’ll make a plot of the DataFrame that we created with the Matplotlib library. It is as simple as writing the name of the DataFrame and then using the function **.plot.bar()**, which will show us a bar graph."
   ]
  },
  {
   "cell_type": "code",
   "execution_count": null,
   "metadata": {
    "id": "LibdjgTwc3dq"
   },
   "outputs": [],
   "source": [
    "unique_logons_df.plot.bar()"
   ]
  },
  {
   "cell_type": "markdown",
   "metadata": {
    "id": "V-Sk7DMrc3dr"
   },
   "source": [
    "**In this way, we can easily see that there has been a large number of failed logon attempts on the computer without using the DataFrame and searching line by line.**"
   ]
  },
  {
   "cell_type": "markdown",
   "metadata": {
    "id": "Xk8pDksHc3dr"
   },
   "source": [
    "## 4.2. Failed Logons Analysis"
   ]
  },
  {
   "cell_type": "markdown",
   "metadata": {
    "id": "RNBNApfNc3ds"
   },
   "source": [
    "As on other occasions, we can do it even more easily, using the **xanalysis()** function of the CHRYSALIS library. \n",
    "\n",
    "<span style=\"color:purple\">\n",
    "<b>INSTRUCTIONS:</b>\n",
    "\n",
    "<ul>\n",
    "    <li>Execute the cell</li>\n",
    "    <li>Select DataFrame as analysis object</li>\n",
    "    <li>Select evtx for the type of analysis</li>\n",
    "    <li>Select 4625 as DF to analyze </li>\n",
    "    <li>Select Failed Logons info as the available analysis</li>\n",
    "</ul>\n",
    "</span>\n"
   ]
  },
  {
   "cell_type": "code",
   "execution_count": null,
   "metadata": {
    "id": "fGBovT_-c3ds"
   },
   "outputs": [],
   "source": [
    "xanalysis(secevtxdfs_srv)"
   ]
  },
  {
   "cell_type": "markdown",
   "metadata": {
    "id": "eqxoxtu_c3ds"
   },
   "source": [
    "<span style=\"color:blue\">**How many failed logons occurred on the Domain Controller/Server?** </span>\n"
   ]
  },
  {
   "cell_type": "markdown",
   "metadata": {
    "id": "rFngdb_-c3ds"
   },
   "source": [
    "**ANSWER HERE**:\n"
   ]
  },
  {
   "cell_type": "markdown",
   "metadata": {
    "id": "PoSvem0oc3ds"
   },
   "source": [
    "<span style=\"color:blue\">**At what time was the Brute Force used?** </span>\n"
   ]
  },
  {
   "cell_type": "markdown",
   "metadata": {
    "id": "nbgd0R4Mc3dt"
   },
   "source": [
    "**ANSWER HERE**:\n"
   ]
  },
  {
   "cell_type": "markdown",
   "metadata": {
    "id": "c_jpCzRoc3dt"
   },
   "source": [
    "### **4.3. CONCLUSIONS**:"
   ]
  },
  {
   "cell_type": "markdown",
   "metadata": {
    "id": "h6w6g1BAc3dt"
   },
   "source": [
    "**5. FAILED LOGONS**\n",
    "\n",
    " - There's been Brute force on the 19th of September 2020"
   ]
  },
  {
   "cell_type": "markdown",
   "metadata": {
    "id": "mn16hAFrc3du"
   },
   "source": [
    "## **5. LOOKING INTO THE FSTL & AUTORUNS**"
   ]
  },
  {
   "cell_type": "markdown",
   "metadata": {
    "id": "m8NdlU-5c3du"
   },
   "source": [
    "<span style=\"color:blue\">**Is there any suspicious activity?** </span>\n"
   ]
  },
  {
   "cell_type": "markdown",
   "metadata": {
    "id": "2_7U4FBWc3du"
   },
   "source": [
    "<span style=\"color:blue\">**Was there an Internet download?** </span>"
   ]
  },
  {
   "cell_type": "markdown",
   "metadata": {
    "id": "QEjVBBAfc3dv"
   },
   "source": [
    "<span style=\"color:blue\">**When was the Szechuan Sauce modified?**</span>"
   ]
  },
  {
   "cell_type": "markdown",
   "metadata": {
    "id": "USctw4lvc3dv"
   },
   "source": [
    "<span style=\"color:blue\">**Is coreupdater.exe a malware?** </span>"
   ]
  },
  {
   "cell_type": "markdown",
   "metadata": {
    "id": "14nQu_Q2c3dv"
   },
   "source": [
    "### 5.1 Filesystem Timeline"
   ]
  },
  {
   "cell_type": "markdown",
   "metadata": {
    "id": "BNUEqVlQc3dw"
   },
   "source": [
    "Once we have verified that there has been an attacker’s logon, the main thing is to understand what damage or activity has been done on the computer. To do this, we will use the Filesystem Timeline, which as previously mentioned in the notebook, provides information about the system’s activity on a timeline.\n",
    "\n",
    "We will filter by date using **.loc()** from pandas. This will allow us to see the activity from the moment of the attack. Let's see which column we need to use!"
   ]
  },
  {
   "cell_type": "code",
   "execution_count": null,
   "metadata": {
    "id": "v3pyull5c3dw"
   },
   "outputs": [],
   "source": [
    "fstldf.columns"
   ]
  },
  {
   "cell_type": "markdown",
   "metadata": {
    "id": "cb2TslRtc3dw"
   },
   "source": [
    "Let's select the date 2020-09-18 22:00:00 from the Date column to see what happened from the previous day.\n",
    "\n",
    "<span style=\"color:purple\">\n",
    "    <b>INSTRUCTIONS</b>\n",
    "    \n",
    "<ul>\n",
    "    <li>Execute the cell</li>\n",
    "    <li>Select '+ DataFrame' as DataFrame on the left drop-down menu</li>\n",
    "    <li>Select qgrid as grid on the middle drop-down menu</li>\n",
    "</ul>\n",
    "</span>"
   ]
  },
  {
   "cell_type": "code",
   "execution_count": null,
   "metadata": {
    "id": "t4z8cHzFc3dx"
   },
   "outputs": [],
   "source": [
    "fstldf_DC_filterbydate = fstldf.loc[(fstldf['Date'] >= '2020-09-18 22:00:00')]\n",
    "xmenu(fstldf_DC_filterbydate)"
   ]
  },
  {
   "cell_type": "markdown",
   "metadata": {
    "id": "0bhNQNxzc3dx"
   },
   "source": [
    "To understand the FSTL correctly, we will see that there is a column called MACB, this column gives us information about the actions performed on a file. To interpret it, depending on the letters that appear (m, a, c or b) we can get help from the following **SANS** table:"
   ]
  },
  {
   "cell_type": "markdown",
   "metadata": {
    "id": "yBlNr1-Lc3dy"
   },
   "source": [
    "<img src=\"https://github.com/ds4n6/odsc_notebooks_colab/blob/main/Pictures/MACB.webp?raw=1\">\n"
   ]
  },
  {
   "cell_type": "markdown",
   "metadata": {
    "id": "W_utiOHQc3dy"
   },
   "source": [
    "<span style=\"color:blue\">**Is there any suspicious activity?** </span>\n"
   ]
  },
  {
   "cell_type": "markdown",
   "metadata": {
    "id": "26W_iZtIc3dz"
   },
   "source": [
    "**ANSWER HERE**:\n"
   ]
  },
  {
   "cell_type": "markdown",
   "metadata": {
    "id": "r1UlRIshc3dz"
   },
   "source": [
    "<span style=\"color:blue\">**Was there an Internet download?** </span>"
   ]
  },
  {
   "cell_type": "markdown",
   "metadata": {
    "id": "-BWomEnVc3dz"
   },
   "source": [
    "**ANSWER HERE**:\n"
   ]
  },
  {
   "cell_type": "markdown",
   "metadata": {
    "id": "aSn7qnDcc3dz"
   },
   "source": [
    "<span style=\"color:blue\">**When was the Szechuan Sauce modified?** </span>"
   ]
  },
  {
   "cell_type": "markdown",
   "metadata": {
    "id": "9nVQkDI3c3dz"
   },
   "source": [
    "**ANSWER HERE**:\n"
   ]
  },
  {
   "cell_type": "markdown",
   "metadata": {
    "id": "i8UctlUJc3dz"
   },
   "source": [
    "### 5.2 Autoruns\n",
    "\n",
    "We can look for it on autoruns. In this way, we will check if it was moved on the Services and we will be able to see its hash. To locate coreupdater.exe, we will use the **xgrep()** function of the CHRYSALIS library, which allows us to search for a string within any column or row of the DataFrame."
   ]
  },
  {
   "cell_type": "code",
   "execution_count": null,
   "metadata": {
    "id": "R5MqBYXIc3d0"
   },
   "outputs": [],
   "source": [
    "xgrep(atrsdf, 'coreupdater')"
   ]
  },
  {
   "cell_type": "markdown",
   "metadata": {
    "id": "15DcrFKgc3d2"
   },
   "source": [
    "**It's been installed with persistence and we can obtain the hash from the SHA-256 column: 10F3B92002BB98467334161CF85D0B1730851F9256F83C27DB125E9A0C1CFDA6**"
   ]
  },
  {
   "cell_type": "markdown",
   "metadata": {
    "id": "_Xk4NP5rc3d2"
   },
   "source": [
    "### 5.3 VirusTotal\n",
    "\n",
    "To check what coreupdater.exe is, we can use **VirusTotal**. It analyzes suspicious files and URLs to detect types of malware and automatically shares them with the security community. We can search for coreupdater hash (10F3B92002BB98467334161CF85D0B1730851F9256F83C27DB125E9A0C1CFDA6) here: https://www.virustotal.com/gui/home/search\n",
    "\n",
    "<img src=\"https://github.com/ds4n6/odsc_notebooks_colab/blob/main/Pictures/virustotal.png?raw=1\">\n",
    "\n",
    "<span style=\"color:blue\">**Is coreupdater.exe a malware?** </span>\n",
    "\n",
    "**ANSWER HERE**:\n"
   ]
  },
  {
   "cell_type": "markdown",
   "metadata": {
    "id": "YeaeuZoPc3d2"
   },
   "source": [
    "## **6. GETTING MORE INFORMATION FROM SHELLBAGS**"
   ]
  },
  {
   "cell_type": "markdown",
   "metadata": {
    "id": "K6Tm-AwRc3d2"
   },
   "source": [
    "What can we do next? We can use the Shellbag to check what folders the atacker visited."
   ]
  },
  {
   "cell_type": "markdown",
   "metadata": {
    "id": "e1-24b2-c3d3"
   },
   "source": [
    "<span style=\"color:blue\">**Which folders did the atacker visit?** </span>\n"
   ]
  },
  {
   "cell_type": "markdown",
   "metadata": {
    "id": "DkVKnPGkc3d3"
   },
   "source": [
    "### **6.1 Shellbags**\n",
    "\n",
    "- Set of registry keys that store details about a viewed folder, such as its size, position, and icon.\n",
    "- It helps track views, sizes and positions of a folder window when viewed through Windows Explorer; this includes network folders and removable devices."
   ]
  },
  {
   "cell_type": "markdown",
   "metadata": {
    "id": "3b48DhrMc3d3"
   },
   "source": [
    "To select the DataFrame we are interested in, we will use **xmenu()** from CHRYSALIS. \n",
    "\n",
    "<span style=\"color:purple\">\n",
    "    <b>INSTRUCTIONS</b>\n",
    "    \n",
    "<ul>\n",
    "    <li>Execute the cell</li>\n",
    "    <li>Select 'windows_shell_item_file_entry' as DataFrame on the left drop-down menu</li>\n",
    "    <li>Select qgrid as grid on the middle drop-down menu</li>\n",
    "</ul>\n",
    "</span>\n"
   ]
  },
  {
   "cell_type": "code",
   "execution_count": null,
   "metadata": {
    "id": "BAfTGwsBc3d4"
   },
   "outputs": [],
   "source": [
    "xmenu(pldfs_srv)"
   ]
  },
  {
   "cell_type": "markdown",
   "metadata": {
    "id": "54WViYzhc3d4"
   },
   "source": [
    "We are particularly intrigued by a 'Secret' file in the 'Fileshare' directory and the access to the Downloads folder, probably after coreupdater.exe download."
   ]
  },
  {
   "cell_type": "markdown",
   "metadata": {
    "id": "uZrcg-Dfc3d4"
   },
   "source": [
    "<span style=\"color:blue\">**Which folders did the atacker visit?** </span>\n",
    "\n",
    "**ANSWER HERE**:\n"
   ]
  },
  {
   "cell_type": "markdown",
   "metadata": {
    "id": "gfbcLElzc3d5"
   },
   "source": [
    "### **6.2. CONCLUSIONS**:"
   ]
  },
  {
   "cell_type": "markdown",
   "metadata": {
    "id": "oaOjsgsec3d5"
   },
   "source": [
    "**6. GETTING MORE INFORMATION FROM SHELLBAGS**\n",
    "\n",
    "The folders the attacker visited are:\n",
    "- 'Secret' file on Fileshare\n",
    "- There's been an access to the Downloads folder "
   ]
  },
  {
   "cell_type": "markdown",
   "metadata": {
    "id": "09EzRAOHc3d5"
   },
   "source": [
    "## 7. Analyzing Network Traffic"
   ]
  },
  {
   "cell_type": "markdown",
   "metadata": {
    "id": "_0cfqIgXc3d6"
   },
   "source": [
    "<span style=\"color:blue\">**What is the port number that the attacker downloaded the malware from?** </span>\n"
   ]
  },
  {
   "cell_type": "markdown",
   "metadata": {
    "id": "ihVsNgUuc3d6"
   },
   "source": [
    "### 7.1. TShark"
   ]
  },
  {
   "cell_type": "markdown",
   "metadata": {
    "id": "nUj-aSpEc3d6"
   },
   "source": [
    "TShark is a network protocol analyzer. \n",
    "It allows you to:\n",
    "- Capture packet data from a live network\n",
    "- Read packets from a previously saved capture file\n",
    "- Output and write the packets to a file. (JSON, CSV etc.)\n",
    "\n",
    "In this demo, we will make use of a generated CSV files using different Wireshark filters on the PCAP provided by the case.\n"
   ]
  },
  {
   "cell_type": "markdown",
   "metadata": {
    "id": "vjB63GD1c3d6"
   },
   "source": [
    "### 7.2. HTTP\n",
    "\n",
    "The following command was used with Tshark to find out about the HTTP GET Method:\n",
    "\n",
    "tshark -n -r <pcap location> -Y \"http.request.method == \"GET\"\" -T fields -Eheader=y -e ip.src -e ip.dst -e tcp.srcport -e tcp.dstport -e http.request.uri -e frame.time\n",
    "    \n",
    "HTTP GET Request Method was used to help us filter the packets to help us find out how was coreupdater.exe introduced into the victims' systems.\n",
    "    \n",
    "<span style=\"color:purple\">\n",
    "    <b>INSTRUCTIONS</b>\n",
    "    \n",
    "<ul>\n",
    "    <li>Execute cell</li>\n",
    "    <li>Click SELECT & READ</li>\n",
    "</ul>\n",
    "    </span>"
   ]
  },
  {
   "cell_type": "code",
   "execution_count": null,
   "metadata": {
    "id": "cEGFOrQKc3d7"
   },
   "outputs": [],
   "source": [
    "xread(tool='tshark', rootpath=home_path[0]+'/Data/PCAP_http.pcap.csv')"
   ]
  },
  {
   "cell_type": "code",
   "execution_count": null,
   "metadata": {
    "id": "6QBHN0L5c3d8"
   },
   "outputs": [],
   "source": [
    "pcaphttpdf = d4.out"
   ]
  },
  {
   "cell_type": "markdown",
   "metadata": {
    "id": "FTnWkw68c3d8"
   },
   "source": [
    "We shall make use of **xgrep()** from CHRYSALIS to find out how coreupdater.exe was downloaded"
   ]
  },
  {
   "cell_type": "code",
   "execution_count": null,
   "metadata": {
    "id": "8cG5MFPac3d8"
   },
   "outputs": [],
   "source": [
    "xgrep(pcaphttpdf, 'coreupdater')"
   ]
  },
  {
   "cell_type": "markdown",
   "metadata": {
    "id": "8ggP-sdLc3d9"
   },
   "source": [
    "**NOTE: Packets are in CEST and Domain Controller was in Pacific Standard Time, hence we have to minus 1 hour from packet time**\n",
    "\n",
    "\n",
    "The IP address '194.61.24.102' hosted the malware file on port 80 (HTTP) that the victims were made to download onto their respective systems)\n",
    "But how did the malicious IP know about the network?\n",
    "Attackers usually performs reconnaissance to understand about the network and try to exploit exploit vulnerabilities.\n"
   ]
  },
  {
   "cell_type": "markdown",
   "metadata": {
    "id": "FsLjMziMc3d9"
   },
   "source": [
    "### 7.3. Reconnaissance Scan\n",
    "\n",
    "Let's replace the \"http.request.method == GET\" filter with \"ip.addr == 194.61.24.102\".\n",
    "This filter helps us to understand about the malicious IP as both source and destination IP to learn what was done in the network."
   ]
  },
  {
   "cell_type": "markdown",
   "metadata": {
    "id": "Kz3Pim62c3d9"
   },
   "source": [
    "<span style=\"color:purple\">\n",
    "    <b>INSTRUCTIONS</b>\n",
    "    \n",
    "<ul>\n",
    "    <li>Execute cell</li>\n",
    "    <li>Click SELECT & READ</li>\n",
    "</ul>\n",
    "    </span>"
   ]
  },
  {
   "cell_type": "code",
   "execution_count": null,
   "metadata": {
    "id": "J3LKJtIBc3d9"
   },
   "outputs": [],
   "source": [
    "xread(tool='tshark', rootpath=home_path[0]+'/Data/PCAP_nmap.pcap.csv')"
   ]
  },
  {
   "cell_type": "code",
   "execution_count": null,
   "metadata": {
    "id": "zO2qKI2mc3d9"
   },
   "outputs": [],
   "source": [
    "pcapnmapdf = d4.out"
   ]
  },
  {
   "cell_type": "markdown",
   "metadata": {
    "id": "H-EzDMYQc3d-"
   },
   "source": [
    "As there are many packets with the malicious IP, we can make use of the first few packets to learn about the behaviour using pandas' head()"
   ]
  },
  {
   "cell_type": "code",
   "execution_count": null,
   "metadata": {
    "id": "ohYSaSyCc3d-"
   },
   "outputs": [],
   "source": [
    "pcapnmapdf.head(20)"
   ]
  },
  {
   "cell_type": "markdown",
   "metadata": {
    "id": "L1ZooyyGc3d_"
   },
   "source": [
    "The very first packet, the malicious IP did a ping request Domain Controller (10.42.85.10). Ping/ICMP scan is one of the common methods to find out what devices are connected to the network.\n",
    "\n",
    "Next few packets, within the very same second (04:19:13), there were two probes to port 443 (HTTPS) and 80 (HTTP) before getting ICMP reply from the Domain Controller.\n",
    "\n",
    "This means that there was a service port scan done on domain controller itself."
   ]
  },
  {
   "cell_type": "markdown",
   "metadata": {
    "id": "QLWGV4Ebc3d_"
   },
   "source": [
    "### 7.4. Remote Desktop Protocol\n",
    "\n",
    "About 13 seconds later at 04:19:26, the malicious IP is trying to connect to port 3389 (RDP) with incremental source TCP port number of 2 (38088, 38090, 38092, etc.)\n",
    "\n",
    "This behaviour could mean that the malicious IP is trying to conduct a brute force attack to login with RDP.\n",
    "\n",
    "Let's replace the filter with \"ip.addr == 194.61.24.102 and tcp.dstport == 3389 and tcp.flags.syn==1\"\n",
    "\n",
    "As we know the malicious IP and the destination is port 3389, TCP SYN has to be 1 as it is always the start of TCP handshake.\n",
    "\n",
    "To learn about TCP handshake, visit: https://www.guru99.com/tcp-3-way-handshake.html\n",
    "\n",
    "<span style=\"color:purple\">\n",
    "    <b>INSTRUCTIONS</b>\n",
    "    \n",
    "<ul>\n",
    "    <li>Execute cell</li>\n",
    "    <li>Click SELECT & READ</li>\n",
    "</ul>\n",
    "    </span>"
   ]
  },
  {
   "cell_type": "code",
   "execution_count": null,
   "metadata": {
    "id": "qny7s6zDc3d_"
   },
   "outputs": [],
   "source": [
    "xread(tool='tshark', rootpath=home_path[0]+'/Data/PCAP_rdp.pcap.csv')"
   ]
  },
  {
   "cell_type": "code",
   "execution_count": null,
   "metadata": {
    "id": "BS2JKa5lc3eA"
   },
   "outputs": [],
   "source": [
    "pcaprdpdf = d4.out"
   ]
  },
  {
   "cell_type": "markdown",
   "metadata": {
    "id": "DQAgXC7hc3eA"
   },
   "source": [
    "<span style=\"color:purple\">\n",
    "    <b>INSTRUCTIONS</b>\n",
    "    \n",
    "<ul>\n",
    "    <li>Execute the cell</li>\n",
    "    <li>Select '+ DataFrame' as DataFrame on the left drop-down menu</li>\n",
    "    <li>Select qgrid as grid on the middle drop-down menu</li>\n",
    "</ul>\n",
    "</span>\n"
   ]
  },
  {
   "cell_type": "code",
   "execution_count": null,
   "metadata": {
    "id": "etpXuXKCc3eA"
   },
   "outputs": [],
   "source": [
    "xmenu(pcaprdpdf)"
   ]
  },
  {
   "cell_type": "markdown",
   "metadata": {
    "id": "9i9I1yJ5c3eB"
   },
   "source": [
    "We can see from **xmenu()** with the dataframe, that there were twenty thousands packets in just 2 minutes!\n",
    "However, at 04:22:36 to 04:56:03, there were no other SYN packets.\n",
    "This meant that the attacker successfully logon to Domain Controller where it downloaded the malware at 04:24:04"
   ]
  },
  {
   "cell_type": "markdown",
   "metadata": {
    "id": "gZxlMdhac3eB"
   },
   "source": [
    "<span style=\"color:blue\">**What is the port number that the attacker downloaded the malware from?** </span>\n"
   ]
  },
  {
   "cell_type": "markdown",
   "metadata": {
    "id": "h8BwJOSmc3eB"
   },
   "source": [
    "**ANSWER HERE**:\n"
   ]
  },
  {
   "cell_type": "markdown",
   "metadata": {
    "id": "-92bp40Jc3eC"
   },
   "source": [
    "### **7.5. CONCLUSIONS**:"
   ]
  },
  {
   "cell_type": "markdown",
   "metadata": {
    "id": "DJTK6IIBc3eC"
   },
   "source": [
    "**7. Looking Into the PCAP File**\n",
    "\n",
    "- The victims downloaded the malware from 194.61.24.102 using HTTP GET Method\n",
    "- The attack hosted malware on a HTTP server"
   ]
  },
  {
   "cell_type": "code",
   "execution_count": null,
   "metadata": {},
   "outputs": [],
   "source": []
  }
 ],
 "metadata": {
  "colab": {
   "name": "ODSC_TheStolenSzechuanSauceCase.ipynb",
   "provenance": [],
   "toc_visible": true
  },
  "kernelspec": {
   "display_name": "Python 3",
   "language": "python",
   "name": "python3"
  },
  "language_info": {
   "codemirror_mode": {
    "name": "ipython",
    "version": 3
   },
   "file_extension": ".py",
   "mimetype": "text/x-python",
   "name": "python",
   "nbconvert_exporter": "python",
   "pygments_lexer": "ipython3",
   "version": "3.7.6"
  },
  "output_auto_scroll": false
 },
 "nbformat": 4,
 "nbformat_minor": 4
}
